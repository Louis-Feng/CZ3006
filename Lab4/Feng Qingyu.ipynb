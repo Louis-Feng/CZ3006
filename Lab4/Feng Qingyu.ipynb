{
 "cells": [
  {
   "cell_type": "code",
   "execution_count": 75,
   "metadata": {},
   "outputs": [
    {
     "name": "stdout",
     "output_type": "stream",
     "text": [
      "Data type :  <class 'pandas.core.frame.DataFrame'>\n",
      "Data dims :  (69370, 21)\n"
     ]
    }
   ],
   "source": [
    "import pandas as pd\n",
    "import numpy as np\n",
    "import matplotlib.pyplot as plt\n",
    "Sflow = pd.read_csv(\"SFlow_Data_lab4.csv\",encoding = \"ISO-8859-1\")\n",
    "print(\"Data type : \", type(Sflow))\n",
    "print(\"Data dims : \", Sflow.shape)\n"
   ]
  },
  {
   "cell_type": "code",
   "execution_count": 76,
   "metadata": {},
   "outputs": [
    {
     "name": "stdout",
     "output_type": "stream",
     "text": [
      "Type                    object\n",
      "sflow_agent_address     object\n",
      "inputPort                int64\n",
      "outputPort               int64\n",
      "src_MAC                 object\n",
      "dst_MAC                 object\n",
      "ethernet_type           object\n",
      "in_vlan                float64\n",
      "out_vlan                 int64\n",
      "src_IP                  object\n",
      "dst_IP                  object\n",
      "IP_protocol              int64\n",
      "ip_tos                  object\n",
      "ip_ttl                   int64\n",
      "src_IP_port            float64\n",
      "dst_IP_port              int64\n",
      "tcp_flags               object\n",
      "packet_size              int64\n",
      "IP_size                  int64\n",
      "sampling_rate            int64\n",
      "Unnamed: 20            float64\n",
      "dtype: object\n"
     ]
    }
   ],
   "source": [
    "print(Sflow.dtypes)\n"
   ]
  },
  {
   "cell_type": "code",
   "execution_count": 77,
   "metadata": {},
   "outputs": [
    {
     "name": "stdout",
     "output_type": "stream",
     "text": [
      "<class 'pandas.core.frame.DataFrame'>\n",
      "RangeIndex: 69370 entries, 0 to 69369\n",
      "Data columns (total 21 columns):\n",
      "Type                   69370 non-null object\n",
      "sflow_agent_address    69370 non-null object\n",
      "inputPort              69370 non-null int64\n",
      "outputPort             69370 non-null int64\n",
      "src_MAC                69370 non-null object\n",
      "dst_MAC                69370 non-null object\n",
      "ethernet_type          69370 non-null object\n",
      "in_vlan                69370 non-null float64\n",
      "out_vlan               69370 non-null int64\n",
      "src_IP                 69370 non-null object\n",
      "dst_IP                 69370 non-null object\n",
      "IP_protocol            69370 non-null int64\n",
      "ip_tos                 69370 non-null object\n",
      "ip_ttl                 69370 non-null int64\n",
      "src_IP_port            69370 non-null float64\n",
      "dst_IP_port            69370 non-null int64\n",
      "tcp_flags              69370 non-null object\n",
      "packet_size            69370 non-null int64\n",
      "IP_size                69370 non-null int64\n",
      "sampling_rate          69370 non-null int64\n",
      "Unnamed: 20            1305 non-null float64\n",
      "dtypes: float64(3), int64(9), object(9)\n",
      "memory usage: 11.1+ MB\n"
     ]
    }
   ],
   "source": [
    "Sflow.info()"
   ]
  },
  {
   "cell_type": "markdown",
   "metadata": {},
   "source": [
    "# EXERCISE 4A: TOP TALKERS AND LISTENERS# "
   ]
  },
  {
   "cell_type": "markdown",
   "metadata": {},
   "source": [
    "## Top 5 Talkers. (ie sender nodes)"
   ]
  },
  {
   "cell_type": "code",
   "execution_count": 78,
   "metadata": {},
   "outputs": [
    {
     "data": {
      "text/html": [
       "<div>\n",
       "<style scoped>\n",
       "    .dataframe tbody tr th:only-of-type {\n",
       "        vertical-align: middle;\n",
       "    }\n",
       "\n",
       "    .dataframe tbody tr th {\n",
       "        vertical-align: top;\n",
       "    }\n",
       "\n",
       "    .dataframe thead th {\n",
       "        text-align: right;\n",
       "    }\n",
       "</style>\n",
       "<table border=\"1\" class=\"dataframe\">\n",
       "  <thead>\n",
       "    <tr style=\"text-align: right;\">\n",
       "      <th></th>\n",
       "      <th>packet_size</th>\n",
       "    </tr>\n",
       "    <tr>\n",
       "      <th>src_IP</th>\n",
       "      <th></th>\n",
       "    </tr>\n",
       "  </thead>\n",
       "  <tbody>\n",
       "    <tr>\n",
       "      <td>193.62.192.8</td>\n",
       "      <td>3041</td>\n",
       "    </tr>\n",
       "    <tr>\n",
       "      <td>155.69.160.32</td>\n",
       "      <td>2975</td>\n",
       "    </tr>\n",
       "    <tr>\n",
       "      <td>130.14.250.11</td>\n",
       "      <td>2604</td>\n",
       "    </tr>\n",
       "    <tr>\n",
       "      <td>14.139.196.58</td>\n",
       "      <td>2452</td>\n",
       "    </tr>\n",
       "    <tr>\n",
       "      <td>140.112.8.139</td>\n",
       "      <td>2056</td>\n",
       "    </tr>\n",
       "  </tbody>\n",
       "</table>\n",
       "</div>"
      ],
      "text/plain": [
       "               packet_size\n",
       "src_IP                    \n",
       "193.62.192.8          3041\n",
       "155.69.160.32         2975\n",
       "130.14.250.11         2604\n",
       "14.139.196.58         2452\n",
       "140.112.8.139         2056"
      ]
     },
     "execution_count": 78,
     "metadata": {},
     "output_type": "execute_result"
    }
   ],
   "source": [
    "\n",
    "scr_IP_grouped = Sflow[['src_IP','packet_size']].groupby(['src_IP'], sort=False).count()\n",
    "scr_IP_grouped.nlargest(5,\"packet_size\")"
   ]
  },
  {
   "cell_type": "code",
   "execution_count": null,
   "metadata": {},
   "outputs": [],
   "source": []
  },
  {
   "cell_type": "markdown",
   "metadata": {},
   "source": []
  },
  {
   "cell_type": "markdown",
   "metadata": {},
   "source": [
    "## Top 5 Listeners (ie receiving node)"
   ]
  },
  {
   "cell_type": "code",
   "execution_count": 79,
   "metadata": {},
   "outputs": [
    {
     "data": {
      "text/html": [
       "<div>\n",
       "<style scoped>\n",
       "    .dataframe tbody tr th:only-of-type {\n",
       "        vertical-align: middle;\n",
       "    }\n",
       "\n",
       "    .dataframe tbody tr th {\n",
       "        vertical-align: top;\n",
       "    }\n",
       "\n",
       "    .dataframe thead th {\n",
       "        text-align: right;\n",
       "    }\n",
       "</style>\n",
       "<table border=\"1\" class=\"dataframe\">\n",
       "  <thead>\n",
       "    <tr style=\"text-align: right;\">\n",
       "      <th></th>\n",
       "      <th>packet_size</th>\n",
       "    </tr>\n",
       "    <tr>\n",
       "      <th>dst_IP</th>\n",
       "      <th></th>\n",
       "    </tr>\n",
       "  </thead>\n",
       "  <tbody>\n",
       "    <tr>\n",
       "      <td>103.37.198.100</td>\n",
       "      <td>3841</td>\n",
       "    </tr>\n",
       "    <tr>\n",
       "      <td>137.132.228.15</td>\n",
       "      <td>3715</td>\n",
       "    </tr>\n",
       "    <tr>\n",
       "      <td>202.21.159.244</td>\n",
       "      <td>2446</td>\n",
       "    </tr>\n",
       "    <tr>\n",
       "      <td>192.101.107.153</td>\n",
       "      <td>2368</td>\n",
       "    </tr>\n",
       "    <tr>\n",
       "      <td>103.21.126.2</td>\n",
       "      <td>2056</td>\n",
       "    </tr>\n",
       "  </tbody>\n",
       "</table>\n",
       "</div>"
      ],
      "text/plain": [
       "                 packet_size\n",
       "dst_IP                      \n",
       "103.37.198.100          3841\n",
       "137.132.228.15          3715\n",
       "202.21.159.244          2446\n",
       "192.101.107.153         2368\n",
       "103.21.126.2            2056"
      ]
     },
     "execution_count": 79,
     "metadata": {},
     "output_type": "execute_result"
    }
   ],
   "source": [
    "dst_IP_grouped = Sflow[['dst_IP','packet_size']].groupby(['dst_IP'], sort=False).count()\n",
    "dst_IP_grouped.nlargest(5,\"packet_size\")"
   ]
  },
  {
   "cell_type": "markdown",
   "metadata": {},
   "source": [
    "# EXERCISE 4B: TRANSPORT PROTOCOL "
   ]
  },
  {
   "cell_type": "code",
   "execution_count": 80,
   "metadata": {},
   "outputs": [
    {
     "data": {
      "text/html": [
       "<div>\n",
       "<style scoped>\n",
       "    .dataframe tbody tr th:only-of-type {\n",
       "        vertical-align: middle;\n",
       "    }\n",
       "\n",
       "    .dataframe tbody tr th {\n",
       "        vertical-align: top;\n",
       "    }\n",
       "\n",
       "    .dataframe thead th {\n",
       "        text-align: right;\n",
       "    }\n",
       "</style>\n",
       "<table border=\"1\" class=\"dataframe\">\n",
       "  <thead>\n",
       "    <tr style=\"text-align: right;\">\n",
       "      <th></th>\n",
       "      <th>dst_IP</th>\n",
       "    </tr>\n",
       "    <tr>\n",
       "      <th>IP_protocol</th>\n",
       "      <th></th>\n",
       "    </tr>\n",
       "  </thead>\n",
       "  <tbody>\n",
       "    <tr>\n",
       "      <td>6</td>\n",
       "      <td>56064</td>\n",
       "    </tr>\n",
       "    <tr>\n",
       "      <td>17</td>\n",
       "      <td>9462</td>\n",
       "    </tr>\n",
       "    <tr>\n",
       "      <td>1</td>\n",
       "      <td>74</td>\n",
       "    </tr>\n",
       "    <tr>\n",
       "      <td>41</td>\n",
       "      <td>104</td>\n",
       "    </tr>\n",
       "    <tr>\n",
       "      <td>50</td>\n",
       "      <td>1698</td>\n",
       "    </tr>\n",
       "    <tr>\n",
       "      <td>0</td>\n",
       "      <td>1261</td>\n",
       "    </tr>\n",
       "    <tr>\n",
       "      <td>47</td>\n",
       "      <td>657</td>\n",
       "    </tr>\n",
       "    <tr>\n",
       "      <td>381</td>\n",
       "      <td>45</td>\n",
       "    </tr>\n",
       "    <tr>\n",
       "      <td>103</td>\n",
       "      <td>1</td>\n",
       "    </tr>\n",
       "    <tr>\n",
       "      <td>58</td>\n",
       "      <td>4</td>\n",
       "    </tr>\n",
       "  </tbody>\n",
       "</table>\n",
       "</div>"
      ],
      "text/plain": [
       "             dst_IP\n",
       "IP_protocol        \n",
       "6             56064\n",
       "17             9462\n",
       "1                74\n",
       "41              104\n",
       "50             1698\n",
       "0              1261\n",
       "47              657\n",
       "381              45\n",
       "103               1\n",
       "58                4"
      ]
     },
     "execution_count": 80,
     "metadata": {},
     "output_type": "execute_result"
    }
   ],
   "source": [
    "transport_grouped = Sflow[['IP_protocol','dst_IP' ]].groupby(['IP_protocol'], sort=False).count()\n",
    "transport_grouped"
   ]
  },
  {
   "cell_type": "code",
   "execution_count": 81,
   "metadata": {},
   "outputs": [
    {
     "data": {
      "text/html": [
       "<div>\n",
       "<style scoped>\n",
       "    .dataframe tbody tr th:only-of-type {\n",
       "        vertical-align: middle;\n",
       "    }\n",
       "\n",
       "    .dataframe tbody tr th {\n",
       "        vertical-align: top;\n",
       "    }\n",
       "\n",
       "    .dataframe thead th {\n",
       "        text-align: right;\n",
       "    }\n",
       "</style>\n",
       "<table border=\"1\" class=\"dataframe\">\n",
       "  <thead>\n",
       "    <tr style=\"text-align: right;\">\n",
       "      <th></th>\n",
       "      <th>dst_IP</th>\n",
       "    </tr>\n",
       "    <tr>\n",
       "      <th>IP_protocol</th>\n",
       "      <th></th>\n",
       "    </tr>\n",
       "  </thead>\n",
       "  <tbody>\n",
       "    <tr>\n",
       "      <td>6</td>\n",
       "      <td>56064</td>\n",
       "    </tr>\n",
       "    <tr>\n",
       "      <td>17</td>\n",
       "      <td>9462</td>\n",
       "    </tr>\n",
       "    <tr>\n",
       "      <td>50</td>\n",
       "      <td>1698</td>\n",
       "    </tr>\n",
       "  </tbody>\n",
       "</table>\n",
       "</div>"
      ],
      "text/plain": [
       "             dst_IP\n",
       "IP_protocol        \n",
       "6             56064\n",
       "17             9462\n",
       "50             1698"
      ]
     },
     "execution_count": 81,
     "metadata": {},
     "output_type": "execute_result"
    }
   ],
   "source": [
    "transport_grouped.nlargest(3,\"dst_IP\")\n"
   ]
  },
  {
   "cell_type": "code",
   "execution_count": 82,
   "metadata": {},
   "outputs": [
    {
     "name": "stdout",
     "output_type": "stream",
     "text": [
      "percentage of IP_protocol 6 : 0.8082\n",
      "percentage of IP_protocol 17 : 0.1364\n",
      "percentage of IP_protocol 50 : 0.0245\n"
     ]
    }
   ],
   "source": [
    "total_packet_number = Sflow[\"IP_protocol\"].count()\n",
    "IP_protocol_6_number = Sflow[\"IP_protocol\"].loc[Sflow[\"IP_protocol\"]==6].count()\n",
    "IP_protocol_17_number = Sflow[\"IP_protocol\"].loc[Sflow[\"IP_protocol\"]==17].count()\n",
    "IP_protocol_50_number = Sflow[\"IP_protocol\"].loc[Sflow[\"IP_protocol\"]==50].count()\n",
    "print(\"percentage of IP_protocol 6 : %5.4f\" % (IP_protocol_6_number/total_packet_number))\n",
    "print(\"percentage of IP_protocol 17 : %5.4f\" % (IP_protocol_17_number/total_packet_number))\n",
    "print(\"percentage of IP_protocol 50 : %5.4f\" % (IP_protocol_50_number/total_packet_number))"
   ]
  },
  {
   "cell_type": "markdown",
   "metadata": {},
   "source": [
    "# EXERCISE 4C: APPLICATIONS PROTOCOL"
   ]
  },
  {
   "cell_type": "code",
   "execution_count": 83,
   "metadata": {},
   "outputs": [
    {
     "data": {
      "text/html": [
       "<div>\n",
       "<style scoped>\n",
       "    .dataframe tbody tr th:only-of-type {\n",
       "        vertical-align: middle;\n",
       "    }\n",
       "\n",
       "    .dataframe tbody tr th {\n",
       "        vertical-align: top;\n",
       "    }\n",
       "\n",
       "    .dataframe thead th {\n",
       "        text-align: right;\n",
       "    }\n",
       "</style>\n",
       "<table border=\"1\" class=\"dataframe\">\n",
       "  <thead>\n",
       "    <tr style=\"text-align: right;\">\n",
       "      <th></th>\n",
       "      <th>packet_size</th>\n",
       "    </tr>\n",
       "    <tr>\n",
       "      <th>dst_IP_port</th>\n",
       "      <th></th>\n",
       "    </tr>\n",
       "  </thead>\n",
       "  <tbody>\n",
       "    <tr>\n",
       "      <td>443</td>\n",
       "      <td>13423</td>\n",
       "    </tr>\n",
       "    <tr>\n",
       "      <td>80</td>\n",
       "      <td>2647</td>\n",
       "    </tr>\n",
       "    <tr>\n",
       "      <td>52866</td>\n",
       "      <td>2068</td>\n",
       "    </tr>\n",
       "    <tr>\n",
       "      <td>45512</td>\n",
       "      <td>1356</td>\n",
       "    </tr>\n",
       "    <tr>\n",
       "      <td>56152</td>\n",
       "      <td>1341</td>\n",
       "    </tr>\n",
       "  </tbody>\n",
       "</table>\n",
       "</div>"
      ],
      "text/plain": [
       "             packet_size\n",
       "dst_IP_port             \n",
       "443                13423\n",
       "80                  2647\n",
       "52866               2068\n",
       "45512               1356\n",
       "56152               1341"
      ]
     },
     "execution_count": 83,
     "metadata": {},
     "output_type": "execute_result"
    }
   ],
   "source": [
    "dst_IP_port_number_grouped = Sflow[['dst_IP_port','packet_size']].groupby(['dst_IP_port'], sort=False).count()\n",
    "dst_IP_port_number_grouped.nlargest(5,\"packet_size\")"
   ]
  },
  {
   "cell_type": "markdown",
   "metadata": {},
   "source": [
    "# EXERCISE 4D: TRAFFIC"
   ]
  },
  {
   "cell_type": "code",
   "execution_count": 84,
   "metadata": {},
   "outputs": [
    {
     "data": {
      "text/html": [
       "<div>\n",
       "<style scoped>\n",
       "    .dataframe tbody tr th:only-of-type {\n",
       "        vertical-align: middle;\n",
       "    }\n",
       "\n",
       "    .dataframe tbody tr th {\n",
       "        vertical-align: top;\n",
       "    }\n",
       "\n",
       "    .dataframe thead th {\n",
       "        text-align: right;\n",
       "    }\n",
       "</style>\n",
       "<table border=\"1\" class=\"dataframe\">\n",
       "  <thead>\n",
       "    <tr style=\"text-align: right;\">\n",
       "      <th></th>\n",
       "      <th>IP_size</th>\n",
       "    </tr>\n",
       "  </thead>\n",
       "  <tbody>\n",
       "    <tr>\n",
       "      <td>0</td>\n",
       "      <td>1500</td>\n",
       "    </tr>\n",
       "    <tr>\n",
       "      <td>1</td>\n",
       "      <td>52</td>\n",
       "    </tr>\n",
       "    <tr>\n",
       "      <td>2</td>\n",
       "      <td>1500</td>\n",
       "    </tr>\n",
       "    <tr>\n",
       "      <td>3</td>\n",
       "      <td>94</td>\n",
       "    </tr>\n",
       "    <tr>\n",
       "      <td>4</td>\n",
       "      <td>52</td>\n",
       "    </tr>\n",
       "    <tr>\n",
       "      <td>...</td>\n",
       "      <td>...</td>\n",
       "    </tr>\n",
       "    <tr>\n",
       "      <td>69365</td>\n",
       "      <td>1500</td>\n",
       "    </tr>\n",
       "    <tr>\n",
       "      <td>69366</td>\n",
       "      <td>1420</td>\n",
       "    </tr>\n",
       "    <tr>\n",
       "      <td>69367</td>\n",
       "      <td>64</td>\n",
       "    </tr>\n",
       "    <tr>\n",
       "      <td>69368</td>\n",
       "      <td>1245</td>\n",
       "    </tr>\n",
       "    <tr>\n",
       "      <td>69369</td>\n",
       "      <td>40</td>\n",
       "    </tr>\n",
       "  </tbody>\n",
       "</table>\n",
       "<p>69370 rows × 1 columns</p>\n",
       "</div>"
      ],
      "text/plain": [
       "       IP_size\n",
       "0         1500\n",
       "1           52\n",
       "2         1500\n",
       "3           94\n",
       "4           52\n",
       "...        ...\n",
       "69365     1500\n",
       "69366     1420\n",
       "69367       64\n",
       "69368     1245\n",
       "69369       40\n",
       "\n",
       "[69370 rows x 1 columns]"
      ]
     },
     "execution_count": 84,
     "metadata": {},
     "output_type": "execute_result"
    }
   ],
   "source": [
    "#traffic_info = Sflow[['packet_size']]\n",
    "traffic_info = Sflow[['IP_size']]\n",
    "traffic_info"
   ]
  },
  {
   "cell_type": "code",
   "execution_count": 85,
   "metadata": {},
   "outputs": [
    {
     "name": "stdout",
     "output_type": "stream",
     "text": [
      "Total traffic of the router with a sampling rate of 1000 : 61776.95 (MB)\n"
     ]
    }
   ],
   "source": [
    "total_traffic = traffic_info.sum()\n",
    "print(\"Total traffic of the router with a sampling rate of 1000 : %5.2f (MB)\" % (total_traffic*1000 / 1024 /1024))\n"
   ]
  },
  {
   "cell_type": "markdown",
   "metadata": {},
   "source": [
    "# EXERCISE 4E: ADDITIONAL ANALYSIS"
   ]
  },
  {
   "cell_type": "markdown",
   "metadata": {},
   "source": [
    "## Top 5 communication pair"
   ]
  },
  {
   "cell_type": "code",
   "execution_count": null,
   "metadata": {},
   "outputs": [],
   "source": []
  },
  {
   "cell_type": "code",
   "execution_count": 86,
   "metadata": {},
   "outputs": [
    {
     "name": "stdout",
     "output_type": "stream",
     "text": [
      "I'm trying to iterate all rows\n",
      "        IP Address 1     IP Address 2  number of packets\n",
      "1237  137.132.228.15     193.62.192.8               4951\n",
      "212   103.37.198.100    130.14.250.11               2842\n",
      "1426   14.139.196.58  192.101.107.153               2368\n",
      "1553   140.112.8.139     103.21.126.2               2056\n",
      "1585   140.90.101.61     167.205.52.8               1752\n"
     ]
    }
   ],
   "source": [
    "communication_pair = Sflow.groupby([\"src_IP\", \"dst_IP\"]).size().reset_index(name = \"Count\")\n",
    "\n",
    "frame_size = communication_pair.shape[0]\n",
    "arr_src_IP = []\n",
    "arr_dst_IP = []\n",
    "count_array = []\n",
    "drop_index_array = []\n",
    "print(\"I'm trying to iterate all rows\")\n",
    "for index in range(frame_size):\n",
    "    \n",
    "    if (index in drop_index_array):\n",
    "        continue\n",
    "    \n",
    "    src_ip = communication_pair.iloc[index][\"src_IP\"]\n",
    "    dst_ip = communication_pair.iloc[index][\"dst_IP\"]\n",
    "    count1 = communication_pair.iloc[index][\"Count\"]\n",
    "    index2 = communication_pair.index[(communication_pair[\"dst_IP\"] == src_ip) & (communication_pair[\"src_IP\"] == dst_ip) & (~communication_pair.index.isin(drop_index_array))]\n",
    "    #print(index2)\n",
    "    if index2.empty:\n",
    "        arr_src_IP.append(src_ip)\n",
    "        arr_dst_IP.append(dst_ip)\n",
    "        count_array.append(count1)\n",
    "    else:\n",
    "        drop_index_array.append(index2[0])\n",
    "        count2 = communication_pair.iloc[index2[0]][\"Count\"]\n",
    "        arr_src_IP.append(src_ip)\n",
    "        arr_dst_IP.append(dst_ip)\n",
    "        count_array.append(count1 + count2)\n",
    "    \n",
    "dataframe_3e = pd.DataFrame({\"IP Address 1\":arr_src_IP, \"IP Address 2\":arr_dst_IP, \"number of packets\":count_array})\n",
    "print(dataframe_3e.sort_values(by = [\"number of packets\"], ascending=False).head(5))"
   ]
  },
  {
   "cell_type": "markdown",
   "metadata": {},
   "source": [
    "## Visualization of communications between different IP hosts "
   ]
  },
  {
   "cell_type": "code",
   "execution_count": 87,
   "metadata": {},
   "outputs": [],
   "source": [
    "#visualize\n",
    "import matplotlib.pyplot as plt\n",
    "import networkx as nx\n",
    "import scipy\n",
    "\n",
    "scr__IP = Sflow['src_IP']\n",
    "dst__IP = Sflow['dst_IP']"
   ]
  },
  {
   "cell_type": "code",
   "execution_count": 88,
   "metadata": {},
   "outputs": [],
   "source": [
    "G = nx.Graph()\n",
    "connect_pair = set()\n",
    "nodes = set()\n",
    "\n",
    "for i in range(Sflow.shape[0]):\n",
    "    scrIP = scr__IP[i]\n",
    "    dstIP = dst__IP[i]\n",
    "    nodes.add(scrIP)\n",
    "    nodes.add(dstIP)\n",
    "    connect_pair.add((scrIP,dstIP))"
   ]
  },
  {
   "cell_type": "code",
   "execution_count": null,
   "metadata": {},
   "outputs": [],
   "source": [
    "G.add_nodes_from(nodes)\n",
    "G.add_edges_from(connect_pair)\n",
    "plt.rcParams['figure.figsize'] = 150,120\n",
    "p = nx.spring_layout(G,scale = 1.0, iterations = 50)\n",
    "\n",
    "f=plt.figure()\n",
    "nx.draw(G,p,ax=f.add_subplot(111),node_color = 'r',edge_color = 'g', with_labels = True)\n",
    "f.savefig('4e.png')"
   ]
  },
  {
   "cell_type": "code",
   "execution_count": null,
   "metadata": {},
   "outputs": [],
   "source": []
  },
  {
   "cell_type": "code",
   "execution_count": null,
   "metadata": {},
   "outputs": [],
   "source": []
  }
 ],
 "metadata": {
  "kernelspec": {
   "display_name": "Python 3",
   "language": "python",
   "name": "python3"
  },
  "language_info": {
   "codemirror_mode": {
    "name": "ipython",
    "version": 3
   },
   "file_extension": ".py",
   "mimetype": "text/x-python",
   "name": "python",
   "nbconvert_exporter": "python",
   "pygments_lexer": "ipython3",
   "version": "3.7.4"
  }
 },
 "nbformat": 4,
 "nbformat_minor": 4
}
